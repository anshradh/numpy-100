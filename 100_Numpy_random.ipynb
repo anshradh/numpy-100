{
 "cells": [
  {
   "cell_type": "markdown",
   "id": "a194d42e",
   "metadata": {},
   "source": [
    "# 100 numpy exercises\n",
    "\n",
    "This is a collection of exercises that have been collected in the numpy mailing list, on stack overflow\n",
    "and in the numpy documentation. The goal of this collection is to offer a quick reference for both old\n",
    "and new users but also to provide a set of exercises for those who teach.\n",
    "\n",
    "\n",
    "If you find an error or think you've a better way to solve some of them, feel\n",
    "free to open an issue at <https://github.com/rougier/numpy-100>."
   ]
  },
  {
   "cell_type": "markdown",
   "id": "a7fd49f7",
   "metadata": {},
   "source": [
    "File automatically generated. See the documentation to update questions/answers/hints programmatically."
   ]
  },
  {
   "cell_type": "markdown",
   "id": "b702d5a2",
   "metadata": {},
   "source": [
    "Run the `initialize.py` module, then call a random question with `pick()` an hint towards its solution with\n",
    "`hint(n)` and the answer with `answer(n)`, where n is the number of the picked question."
   ]
  },
  {
   "cell_type": "code",
   "execution_count": 5,
   "id": "da60e1d0",
   "metadata": {},
   "outputs": [],
   "source": [
    "%run initialise.py"
   ]
  },
  {
   "cell_type": "code",
   "execution_count": 11,
   "id": "397cad5a",
   "metadata": {},
   "outputs": [],
   "source": [
    "import torch as torch\n",
    "from einops import rearrange, repeat, reduce"
   ]
  },
  {
   "cell_type": "code",
   "execution_count": 6,
   "id": "9fb544fe",
   "metadata": {},
   "outputs": [
    {
     "name": "stdout",
     "output_type": "stream",
     "text": [
      "9. Create a 3x3 matrix with values ranging from 0 to 8 (★☆☆)\n"
     ]
    }
   ],
   "source": [
    "pick()"
   ]
  },
  {
   "cell_type": "code",
   "execution_count": 9,
   "id": "1f2bd4c5",
   "metadata": {},
   "outputs": [
    {
     "data": {
      "text/plain": [
       "tensor([[0, 1, 2],\n",
       "        [3, 4, 5],\n",
       "        [6, 7, 8]])"
      ]
     },
     "execution_count": 9,
     "metadata": {},
     "output_type": "execute_result"
    }
   ],
   "source": [
    "torch.arange(9).reshape(3, 3)"
   ]
  },
  {
   "cell_type": "code",
   "execution_count": 10,
   "id": "441d5168",
   "metadata": {},
   "outputs": [
    {
     "name": "stdout",
     "output_type": "stream",
     "text": [
      "37. Create a 5x5 matrix with row values ranging from 0 to 4 (★★☆)\n"
     ]
    }
   ],
   "source": [
    "pick()"
   ]
  },
  {
   "cell_type": "code",
   "execution_count": 16,
   "id": "2080605e",
   "metadata": {},
   "outputs": [
    {
     "data": {
      "text/plain": [
       "tensor([[0, 0, 0, 0, 0],\n",
       "        [1, 1, 1, 1, 1],\n",
       "        [2, 2, 2, 2, 2],\n",
       "        [3, 3, 3, 3, 3],\n",
       "        [4, 4, 4, 4, 4]])"
      ]
     },
     "execution_count": 16,
     "metadata": {},
     "output_type": "execute_result"
    }
   ],
   "source": [
    "repeat(torch.arange(5), \"x -> x c\", c=5)"
   ]
  },
  {
   "cell_type": "code",
   "execution_count": 17,
   "id": "1f3aabdf",
   "metadata": {},
   "outputs": [
    {
     "name": "stdout",
     "output_type": "stream",
     "text": [
      "97. Considering 2 vectors A & B, write the einsum equivalent of inner, outer, sum, and mul function (★★★)\n"
     ]
    }
   ],
   "source": [
    "pick()"
   ]
  },
  {
   "cell_type": "code",
   "execution_count": 29,
   "id": "61259f4c",
   "metadata": {},
   "outputs": [
    {
     "data": {
      "text/plain": [
       "tensor(1.8091)"
      ]
     },
     "execution_count": 29,
     "metadata": {},
     "output_type": "execute_result"
    }
   ],
   "source": [
    "A = torch.rand(4)\n",
    "B = torch.rand(4)\n",
    "A\n",
    "B\n",
    "\n",
    "#inner\n",
    "torch.einsum(\"i,i->\", A, B)\n",
    "#outer\n",
    "torch.einsum(\"i,j -> ij\", A, B)\n",
    "#mul\n",
    "torch.einsum(\"i,i -> i\", A, B)\n",
    "#sum\n",
    "torch.einsum(\"i->\", A)"
   ]
  },
  {
   "cell_type": "code",
   "execution_count": 28,
   "id": "b7d1ab67",
   "metadata": {},
   "outputs": [
    {
     "name": "stdout",
     "output_type": "stream",
     "text": [
      "# Author: Alex Riley\n",
      "# Make sure to read: http://ajcr.net/Basic-guide-to-einsum/\n",
      "\n",
      "A = np.random.uniform(0,1,10)\n",
      "B = np.random.uniform(0,1,10)\n",
      "\n",
      "np.einsum('i->', A)       # np.sum(A)\n",
      "np.einsum('i,i->i', A, B) # A * B\n",
      "np.einsum('i,i', A, B)    # np.inner(A, B)\n",
      "np.einsum('i,j->ij', A, B)    # np.outer(A, B)\n"
     ]
    }
   ],
   "source": [
    "answer(97)"
   ]
  },
  {
   "cell_type": "code",
   "execution_count": 31,
   "id": "36bfb64b",
   "metadata": {},
   "outputs": [
    {
     "name": "stdout",
     "output_type": "stream",
     "text": [
      "14. Create a random vector of size 30 and find the mean value (★☆☆)\n"
     ]
    }
   ],
   "source": [
    "pick()"
   ]
  },
  {
   "cell_type": "code",
   "execution_count": 32,
   "id": "2b563e01",
   "metadata": {},
   "outputs": [
    {
     "data": {
      "text/plain": [
       "tensor(0.4622)"
      ]
     },
     "execution_count": 32,
     "metadata": {},
     "output_type": "execute_result"
    }
   ],
   "source": [
    "torch.rand(30).mean()"
   ]
  },
  {
   "cell_type": "code",
   "execution_count": 34,
   "id": "dba2d177",
   "metadata": {},
   "outputs": [
    {
     "name": "stdout",
     "output_type": "stream",
     "text": [
      "47. Given two arrays, X and Y, construct the Cauchy matrix C (Cij =1/(xi - yj)) (★★☆)\n"
     ]
    }
   ],
   "source": [
    "pick()"
   ]
  },
  {
   "cell_type": "code",
   "execution_count": 43,
   "id": "16857d5a",
   "metadata": {},
   "outputs": [
    {
     "data": {
      "text/plain": [
       "array([[  2.6208339, -25.229996 ,  -2.2079577, -24.332685 ,   6.427515 ,\n",
       "          4.552724 ],\n",
       "       [  2.7794762, -16.283121 ,  -2.1066597, -15.904594 ,   7.4736633,\n",
       "          5.053803 ],\n",
       "       [  2.0826397,  16.95876  ,  -2.822425 ,  17.389807 ,   3.9341726,\n",
       "          3.1421773],\n",
       "       [-55.215454 ,  -2.2763271,  -1.1729159,  -2.2687786,  -4.096888 ,\n",
       "         -5.5549355]], dtype=float32)"
      ]
     },
     "execution_count": 43,
     "metadata": {},
     "output_type": "execute_result"
    }
   ],
   "source": [
    "import numpy as np\n",
    "X = torch.rand(4)\n",
    "Y = torch.rand(6)\n",
    "1.0/np.subtract.outer(X, Y)"
   ]
  },
  {
   "cell_type": "code",
   "execution_count": 36,
   "id": "caf15f90",
   "metadata": {},
   "outputs": [
    {
     "name": "stdout",
     "output_type": "stream",
     "text": [
      "# Author: Evgeni Burovski\n",
      "\n",
      "X = np.arange(8)\n",
      "Y = X + 0.5\n",
      "C = 1.0 / np.subtract.outer(X, Y)\n",
      "print(np.linalg.det(C))\n"
     ]
    }
   ],
   "source": [
    "answer(47)"
   ]
  },
  {
   "cell_type": "code",
   "execution_count": 48,
   "id": "97ee5e62",
   "metadata": {},
   "outputs": [
    {
     "name": "stdout",
     "output_type": "stream",
     "text": [
      "40. Create a random vector of size 10 and sort it (★★☆)\n"
     ]
    }
   ],
   "source": [
    "pick()"
   ]
  },
  {
   "cell_type": "code",
   "execution_count": 49,
   "id": "42d51ee4",
   "metadata": {},
   "outputs": [
    {
     "data": {
      "text/plain": [
       "torch.return_types.sort(\n",
       "values=tensor([0.0297, 0.0406, 0.0656, 0.0982, 0.1086, 0.2711, 0.4085, 0.4348, 0.7586,\n",
       "        0.8887]),\n",
       "indices=tensor([4, 3, 6, 1, 7, 5, 8, 2, 0, 9]))"
      ]
     },
     "execution_count": 49,
     "metadata": {},
     "output_type": "execute_result"
    }
   ],
   "source": [
    "torch.rand(10).sort()"
   ]
  },
  {
   "cell_type": "code",
   "execution_count": 50,
   "id": "50fee839",
   "metadata": {},
   "outputs": [
    {
     "name": "stdout",
     "output_type": "stream",
     "text": [
      "18. Create a 5x5 matrix with values 1,2,3,4 just below the diagonal (★☆☆)\n"
     ]
    }
   ],
   "source": [
    "pick()"
   ]
  },
  {
   "cell_type": "code",
   "execution_count": 57,
   "id": "200c38f3",
   "metadata": {},
   "outputs": [
    {
     "name": "stdout",
     "output_type": "stream",
     "text": [
      "Z = np.diag(1+np.arange(4),k=-1)\n",
      "print(Z)\n"
     ]
    }
   ],
   "source": [
    "answer(18)"
   ]
  },
  {
   "cell_type": "code",
   "execution_count": 59,
   "id": "b6f2ed23",
   "metadata": {},
   "outputs": [
    {
     "data": {
      "text/plain": [
       "tensor([[0, 0, 0, 0, 0],\n",
       "        [1, 0, 0, 0, 0],\n",
       "        [0, 2, 0, 0, 0],\n",
       "        [0, 0, 3, 0, 0],\n",
       "        [0, 0, 0, 4, 0]])"
      ]
     },
     "execution_count": 59,
     "metadata": {},
     "output_type": "execute_result"
    }
   ],
   "source": [
    "torch.diag(torch.arange(1, 5), -1)"
   ]
  },
  {
   "cell_type": "code",
   "execution_count": 60,
   "id": "5cbd55ff",
   "metadata": {},
   "outputs": [
    {
     "name": "stdout",
     "output_type": "stream",
     "text": [
      "96. Given a two dimensional array, how to extract unique rows? (★★★)\n"
     ]
    }
   ],
   "source": [
    "pick()"
   ]
  },
  {
   "cell_type": "code",
   "execution_count": 61,
   "id": "e38ddb20",
   "metadata": {},
   "outputs": [
    {
     "name": "stdout",
     "output_type": "stream",
     "text": [
      "# Author: Jaime Fernández del Río\n",
      "\n",
      "Z = np.random.randint(0,2,(6,3))\n",
      "T = np.ascontiguousarray(Z).view(np.dtype((np.void, Z.dtype.itemsize * Z.shape[1])))\n",
      "_, idx = np.unique(T, return_index=True)\n",
      "uZ = Z[idx]\n",
      "print(uZ)\n",
      "\n",
      "# Author: Andreas Kouzelis\n",
      "# NumPy >= 1.13\n",
      "uZ = np.unique(Z, axis=0)\n",
      "print(uZ)\n"
     ]
    }
   ],
   "source": [
    "answer(96)"
   ]
  },
  {
   "cell_type": "code",
   "execution_count": 66,
   "id": "b33ca1f7",
   "metadata": {},
   "outputs": [
    {
     "data": {
      "text/plain": [
       "tensor([[0, 0, 0],\n",
       "        [0, 0, 1],\n",
       "        [1, 0, 0],\n",
       "        [1, 0, 1],\n",
       "        [1, 1, 0]])"
      ]
     },
     "execution_count": 66,
     "metadata": {},
     "output_type": "execute_result"
    }
   ],
   "source": [
    "Z = torch.randint(0, 2, (6,3))\n",
    "torch.unique(Z, dim=0)"
   ]
  },
  {
   "cell_type": "code",
   "execution_count": null,
   "id": "7e5273d1",
   "metadata": {},
   "outputs": [],
   "source": []
  }
 ],
 "metadata": {
  "kernelspec": {
   "display_name": "Python 3.9.13 64-bit",
   "language": "python",
   "name": "python3"
  },
  "language_info": {
   "codemirror_mode": {
    "name": "ipython",
    "version": 3
   },
   "file_extension": ".py",
   "mimetype": "text/x-python",
   "name": "python",
   "nbconvert_exporter": "python",
   "pygments_lexer": "ipython3",
   "version": "3.9.13"
  },
  "vscode": {
   "interpreter": {
    "hash": "aee8b7b246df8f9039afb4144a1f6fd8d2ca17a180786b69acc140d282b71a49"
   }
  }
 },
 "nbformat": 4,
 "nbformat_minor": 5
}
